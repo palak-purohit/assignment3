{
  "nbformat": 4,
  "nbformat_minor": 0,
  "metadata": {
    "colab": {
      "name": "Q7.ipynb",
      "provenance": [],
      "collapsed_sections": []
    },
    "kernelspec": {
      "name": "python3",
      "display_name": "Python 3"
    },
    "language_info": {
      "name": "python"
    }
  },
  "cells": [
    {
      "cell_type": "code",
      "metadata": {
        "colab": {
          "base_uri": "https://localhost:8080/"
        },
        "id": "HcyLYyf-DAqg",
        "outputId": "fa679e00-a573-4d19-d44c-977879931052"
      },
      "source": [
        "!unzip /content/drive-download-20210422T144453Z-001.zip -d  /content/data "
      ],
      "execution_count": 1,
      "outputs": [
        {
          "output_type": "stream",
          "text": [
            "Archive:  /content/drive-download-20210422T144453Z-001.zip\n",
            "  inflating: /content/data/test_resized/pug/pug6.png  \n",
            "  inflating: /content/data/test_resized/pug/pug5.png  \n",
            "  inflating: /content/data/test_resized/pug/pug7.png  \n",
            "  inflating: /content/data/test_resized/pug/pug10.png  \n",
            "  inflating: /content/data/test_resized/pug/pug9.png  \n",
            "  inflating: /content/data/test_resized/pug/pug3.png  \n",
            "  inflating: /content/data/test_resized/pug/pug4.png  \n",
            "  inflating: /content/data/test_resized/pug/pug2.png  \n",
            "  inflating: /content/data/test_resized/pug/pug1.png  \n",
            "  inflating: /content/data/test_resized/pomeranian/pomeranian10.png  \n",
            "  inflating: /content/data/test_resized/pomeranian/pomeranian9.png  \n",
            "  inflating: /content/data/test_resized/pomeranian/pomeranian8.png  \n",
            "  inflating: /content/data/test_resized/pomeranian/pomeranian7.png  \n",
            "  inflating: /content/data/test_resized/pug/pug8.png  \n",
            "  inflating: /content/data/test_resized/pomeranian/pomeranian3.png  \n",
            "  inflating: /content/data/test_resized/pomeranian/pomeranian2.png  \n",
            "  inflating: /content/data/test_resized/pomeranian/pomeranian5.png  \n",
            "  inflating: /content/data/test_resized/pomeranian/pomeranian4.png  \n",
            "  inflating: /content/data/test_resized/pomeranian/pomeranian6.png  \n",
            "  inflating: /content/data/train_resized/pug/pug24.png  \n",
            "  inflating: /content/data/test_resized/pomeranian/pomeranian1.png  \n",
            "  inflating: /content/data/train_resized/pug/pug30.png  \n",
            "  inflating: /content/data/train_resized/pug/pug29.png  \n",
            "  inflating: /content/data/train_resized/pug/pug25.png  \n",
            "  inflating: /content/data/train_resized/pug/pug27.png  \n",
            "  inflating: /content/data/train_resized/pug/pug28.png  \n",
            "  inflating: /content/data/train_resized/pug/pug23.png  \n",
            "  inflating: /content/data/train_resized/pug/pug26.png  \n",
            "  inflating: /content/data/train_resized/pug/pug22.png  \n",
            "  inflating: /content/data/train_resized/pug/pug14.png  \n",
            "  inflating: /content/data/train_resized/pug/pug15.png  \n",
            "  inflating: /content/data/train_resized/pug/pug19.png  \n",
            "  inflating: /content/data/train_resized/pug/pug16.png  \n",
            "  inflating: /content/data/train_resized/pug/pug18.png  \n",
            "  inflating: /content/data/train_resized/pug/pug13.png  \n",
            "  inflating: /content/data/train_resized/pug/pug12.png  \n",
            "  inflating: /content/data/train_resized/pug/pug20.png  \n",
            "  inflating: /content/data/train_resized/pug/pug17.png  \n",
            "  inflating: /content/data/train_resized/pug/pug6.png  \n",
            "  inflating: /content/data/train_resized/pug/pug10.png  \n",
            "  inflating: /content/data/train_resized/pug/pug4.png  \n",
            "  inflating: /content/data/train_resized/pug/pug5.png  \n",
            "  inflating: /content/data/train_resized/pug/pug11.png  \n",
            "  inflating: /content/data/train_resized/pug/pug9.png  \n",
            "  inflating: /content/data/train_resized/pomeranian/pomeranian30.png  \n",
            "  inflating: /content/data/train_resized/pug/pug21.png  \n",
            "  inflating: /content/data/train_resized/pomeranian/pomeranian27.png  \n",
            "  inflating: /content/data/train_resized/pomeranian/pomeranian28.png  \n",
            "  inflating: /content/data/train_resized/pomeranian/pomeranian24.png  \n",
            "  inflating: /content/data/train_resized/pomeranian/pomeranian23.png  \n",
            "  inflating: /content/data/train_resized/pomeranian/pomeranian29.png  \n",
            "  inflating: /content/data/train_resized/pomeranian/pomeranian15.png  \n",
            "  inflating: /content/data/train_resized/pomeranian/pomeranian26.png  \n",
            "  inflating: /content/data/train_resized/pomeranian/pomeranian17.png  \n",
            "  inflating: /content/data/train_resized/pomeranian/pomeranian16.png  \n",
            "  inflating: /content/data/train_resized/pomeranian/pomeranian22.png  \n",
            "  inflating: /content/data/train_resized/pomeranian/pomeranian14.png  \n",
            "  inflating: /content/data/train_resized/pomeranian/pomeranian21.png  \n",
            "  inflating: /content/data/train_resized/pomeranian/pomeranian25.png  \n",
            "  inflating: /content/data/train_resized/pomeranian/pomeranian20.png  \n",
            "  inflating: /content/data/train_resized/pomeranian/pomeranian19.png  \n",
            "  inflating: /content/data/train_resized/pomeranian/pomeranian18.png  \n",
            "  inflating: /content/data/train_resized/pomeranian/pomeranian13.png  \n",
            "  inflating: /content/data/train_resized/pomeranian/pomeranian12.png  \n",
            "  inflating: /content/data/train_resized/pomeranian/pomeranian11.png  \n",
            "  inflating: /content/data/train_resized/pomeranian/pomeranian10.png  \n",
            "  inflating: /content/data/train_resized/pomeranian/pomeranian8.png  \n",
            "  inflating: /content/data/train_resized/pomeranian/pomeranian9.png  \n",
            "  inflating: /content/data/train_resized/pomeranian/pomeranian6.png  \n",
            "  inflating: /content/data/train_resized/pug/pug7.png  \n",
            "  inflating: /content/data/train_resized/pug/pug3.png  \n",
            "  inflating: /content/data/train_resized/pug/pug2.png  \n",
            "  inflating: /content/data/train_resized/pomeranian/pomeranian7.png  \n",
            "  inflating: /content/data/train_resized/pug/pug1.png  \n",
            "  inflating: /content/data/train_resized/pomeranian/pomeranian3.png  \n",
            "  inflating: /content/data/train_resized/pomeranian/pomeranian1.png  \n",
            "  inflating: /content/data/train_resized/pug/pug8.png  \n",
            "  inflating: /content/data/train_resized/pomeranian/pomeranian2.png  \n",
            "  inflating: /content/data/train_resized/pomeranian/pomeranian5.png  \n",
            "  inflating: /content/data/train_resized/pomeranian/pomeranian4.png  \n"
          ],
          "name": "stdout"
        }
      ]
    },
    {
      "cell_type": "code",
      "metadata": {
        "colab": {
          "base_uri": "https://localhost:8080/"
        },
        "id": "BEZGEbufcbuM",
        "outputId": "3c55cfb9-a772-4c93-f11e-0adb67c4a164"
      },
      "source": [
        "%cd /content/data"
      ],
      "execution_count": 2,
      "outputs": [
        {
          "output_type": "stream",
          "text": [
            "/content/data\n"
          ],
          "name": "stdout"
        }
      ]
    },
    {
      "cell_type": "code",
      "metadata": {
        "colab": {
          "base_uri": "https://localhost:8080/"
        },
        "id": "3vF8mMrOZ_sb",
        "outputId": "73f288d6-6d1c-460f-ab8f-b415a7c76071"
      },
      "source": [
        "# vgg16 model used for transfer learning on the dogs and cats dataset\n",
        "import sys\n",
        "from matplotlib import pyplot\n",
        "from keras.utils import to_categorical\n",
        "from keras.applications.vgg16 import VGG16\n",
        "from keras.models import Model\n",
        "from keras.layers import Dense\n",
        "from keras.layers import Flatten\n",
        "from keras.optimizers import SGD\n",
        "from keras.preprocessing.image import ImageDataGenerator\n",
        "\n",
        "\n",
        "from matplotlib import pyplot\n",
        "from matplotlib.image import imread\n",
        "\n",
        "def define_model():\n",
        "\t# load model\n",
        "\tmodel = VGG16(include_top=False, input_shape=(224, 224, 3))\n",
        "\t# mark loaded layers as not trainable\n",
        "\tfor layer in model.layers:\n",
        "\t\tlayer.trainable = False\n",
        "\t# add new classifier layers\n",
        "\tflat1 = Flatten()(model.layers[-1].output)\n",
        "\tclass1 = Dense(128, activation='relu', kernel_initializer='he_uniform')(flat1)\n",
        "\toutput = Dense(1, activation='sigmoid')(class1)\n",
        "\t# define new model\n",
        "\tmodel = Model(inputs=model.inputs, outputs=output)\n",
        "\t# compile model\n",
        "\topt = SGD(lr=0.001, momentum=0.9)\n",
        "\tmodel.compile(optimizer=opt, loss='binary_crossentropy', metrics=['accuracy'])\n",
        "\treturn model\n",
        "\n",
        "def run_test_harness():\n",
        "\t# define model\n",
        "\tmodel = define_model()\n",
        "\t# create data generator\n",
        "\tdatagen = ImageDataGenerator()\n",
        "\t# specify imagenet mean values for centering\n",
        "\t# datagen.mean = [123.68, 116.779, 103.939]\n",
        "\t# prepare iterator\n",
        "\ttrain_it = datagen.flow_from_directory('./train_resized',\n",
        "\t\tclass_mode='binary', batch_size=16, target_size=(224, 224))\n",
        "\ttest_it = datagen.flow_from_directory('./test_resized',\n",
        "\t\tclass_mode='binary', batch_size=16, target_size=(224, 224))\n",
        "\t# fit model\n",
        "\thistory = model.fit(train_it, steps_per_epoch=len(train_it), epochs=4, verbose=1)\n",
        "\t# evaluate model\n",
        "\t_, acc = model.evaluate(test_it, steps=len(test_it), verbose=0)\n",
        "\tprint('> %.3f' % (acc * 100.0))\n",
        "\tmodel.save('./final_model.h5')\n",
        "\t# learning curves\n",
        "\tsummarize_diagnostics(history)\n",
        " \n",
        "def summarize_diagnostics(history):\n",
        "\t# plot loss\n",
        "\tpyplot.subplot(211)\n",
        "\tpyplot.title('Cross Entropy Loss')\n",
        "\tpyplot.plot(history.history['loss'], color='blue', label='train')\n",
        "\t# pyplot.plot(history.history['val_loss'], color='orange', label='test')\n",
        "\t# plot accuracy\n",
        "\tpyplot.subplot(212)\n",
        "\tpyplot.title('Classification Accuracy')\n",
        "\tpyplot.plot(history.history['accuracy'], color='blue', label='train')\n",
        "\t# pyplot.plot(history.history['val_accuracy'], color='orange', label='test')\n",
        "\t# save plot to file\n",
        "\tfilename = sys.argv[0].split('/')[-1]\n",
        "\tpyplot.savefig(\"without_augment\" + '_plot.png')\n",
        "\tpyplot.close()\n",
        " \n",
        "# entry point, run the test harness\n",
        "run_test_harness()"
      ],
      "execution_count": 7,
      "outputs": [
        {
          "output_type": "stream",
          "text": [
            "Found 60 images belonging to 2 classes.\n",
            "Found 20 images belonging to 2 classes.\n",
            "Epoch 1/4\n",
            "4/4 [==============================] - 20s 5s/step - loss: 24.5103 - accuracy: 0.5438\n",
            "Epoch 2/4\n",
            "4/4 [==============================] - 19s 5s/step - loss: 5.1385 - accuracy: 0.8929\n",
            "Epoch 3/4\n",
            "4/4 [==============================] - 19s 5s/step - loss: 0.0611 - accuracy: 0.9933\n",
            "Epoch 4/4\n",
            "4/4 [==============================] - 19s 5s/step - loss: 0.5494 - accuracy: 0.9888\n",
            "> 100.000\n"
          ],
          "name": "stdout"
        }
      ]
    },
    {
      "cell_type": "code",
      "metadata": {
        "colab": {
          "base_uri": "https://localhost:8080/"
        },
        "id": "woIBidkzecBz",
        "outputId": "bc50d383-de5f-48d0-9040-2120df126c47"
      },
      "source": [
        "# vgg16 model used for transfer learning on the dogs and cats dataset\n",
        "import sys\n",
        "from matplotlib import pyplot\n",
        "from keras.utils import to_categorical\n",
        "from keras.applications.vgg16 import VGG16\n",
        "from keras.models import Model\n",
        "from keras.layers import Dense\n",
        "from keras.layers import Flatten\n",
        "from keras.optimizers import SGD\n",
        "from keras.preprocessing.image import ImageDataGenerator\n",
        "\n",
        " \n",
        "# define cnn model\n",
        "def define_model():\n",
        "\t# load model\n",
        "\tmodel = VGG16(include_top=False, input_shape=(224, 224, 3))\n",
        "\t# mark loaded layers as not trainable\n",
        "\tfor layer in model.layers:\n",
        "\t\tlayer.trainable = False\n",
        "\t# add new classifier layers\n",
        "\tflat1 = Flatten()(model.layers[-1].output)\n",
        "\tclass1 = Dense(128, activation='relu', kernel_initializer='he_uniform')(flat1)\n",
        "\toutput = Dense(1, activation='sigmoid')(class1)\n",
        "\t# define new model\n",
        "\tmodel = Model(inputs=model.inputs, outputs=output)\n",
        "\t# compile model\n",
        "\topt = SGD(lr=0.001, momentum=0.9)\n",
        "\tmodel.compile(optimizer=opt, loss='binary_crossentropy', metrics=['accuracy'])\n",
        "\treturn model\n",
        " \n",
        "# plot diagnostic learning curves\n",
        "def summarize_diagnostics(history):\n",
        "\t# plot loss\n",
        "\tpyplot.subplot(211)\n",
        "\tpyplot.title('Cross Entropy Loss')\n",
        "\tpyplot.plot(history.history['loss'], color='blue', label='train')\n",
        "\t# pyplot.plot(history.history['val_loss'], color='orange', label='test')\n",
        "\t# plot accuracy\n",
        "\tpyplot.subplot(212)\n",
        "\tpyplot.title('Classification Accuracy')\n",
        "\tpyplot.plot(history.history['accuracy'], color='blue', label='train')\n",
        "\t# pyplot.plot(history.history['val_accuracy'], color='orange', label='test')\n",
        "\t# save plot to file\n",
        "\tfilename = sys.argv[0].split('/')[-1]\n",
        "\tpyplot.savefig(\"With_augment\" + '_plot.png')\n",
        "\tpyplot.close()\n",
        " \n",
        "\n",
        "def run_test_harness1():\n",
        "  from matplotlib import pyplot\n",
        "  from matplotlib.image import imread\n",
        "\n",
        "\t# define model\n",
        "  model = define_model()\n",
        "\t# create data generator\n",
        "  datagen = ImageDataGenerator(\n",
        "        rotation_range=40,\n",
        "        width_shift_range=0.2,\n",
        "        height_shift_range=0.2,\n",
        "        shear_range=0.2,\n",
        "        zoom_range=0.2,\n",
        "        horizontal_flip=True,\n",
        "        fill_mode='nearest')\n",
        "\t# specify imagenet mean values for centering\n",
        "  datagen.mean = [123.68, 116.779, 103.939]\n",
        "\t# prepare iterator\n",
        "  train_it = datagen.flow_from_directory('./train_resized',\n",
        "\t\tclass_mode='binary', batch_size=16, target_size=(224, 224))\n",
        "  test_it = datagen.flow_from_directory('./test_resized',\n",
        "\t\tclass_mode='binary', batch_size=16, target_size=(224, 224))\n",
        "\t# fit model\n",
        "  history = model.fit_generator(train_it, steps_per_epoch=len(train_it), epochs=4, verbose=1)\n",
        "\t# evaluate model\n",
        "  _, acc = model.evaluate_generator(test_it, steps=len(test_it), verbose=0)\n",
        "  print('> %.3f' % (acc * 100.0))\n",
        "\t# learning curves\n",
        "  summarize_diagnostics(history)\n",
        " \n",
        "# entry point, run the test harness\n",
        "\n",
        "  \n",
        "  model.save('./final_model_new.h5')\n",
        " \n",
        "# entry point, run the test harness\n",
        "run_test_harness1()\n",
        " \n"
      ],
      "execution_count": 5,
      "outputs": [
        {
          "output_type": "stream",
          "text": [
            "Found 60 images belonging to 2 classes.\n",
            "Found 20 images belonging to 2 classes.\n"
          ],
          "name": "stdout"
        },
        {
          "output_type": "stream",
          "text": [
            "/usr/local/lib/python3.7/dist-packages/tensorflow/python/keras/engine/training.py:1844: UserWarning: `Model.fit_generator` is deprecated and will be removed in a future version. Please use `Model.fit`, which supports generators.\n",
            "  warnings.warn('`Model.fit_generator` is deprecated and '\n"
          ],
          "name": "stderr"
        },
        {
          "output_type": "stream",
          "text": [
            "Epoch 1/4\n",
            "4/4 [==============================] - 21s 5s/step - loss: 2.6308 - accuracy: 0.7245\n",
            "Epoch 2/4\n",
            "4/4 [==============================] - 20s 5s/step - loss: 0.7017 - accuracy: 0.9177\n",
            "Epoch 3/4\n",
            "4/4 [==============================] - 20s 5s/step - loss: 2.6070 - accuracy: 0.9233\n",
            "Epoch 4/4\n",
            "4/4 [==============================] - 20s 5s/step - loss: 0.4391 - accuracy: 0.9867\n"
          ],
          "name": "stdout"
        },
        {
          "output_type": "stream",
          "text": [
            "/usr/local/lib/python3.7/dist-packages/tensorflow/python/keras/engine/training.py:1877: UserWarning: `Model.evaluate_generator` is deprecated and will be removed in a future version. Please use `Model.evaluate`, which supports generators.\n",
            "  warnings.warn('`Model.evaluate_generator` is deprecated and '\n"
          ],
          "name": "stderr"
        },
        {
          "output_type": "stream",
          "text": [
            "> 95.000\n"
          ],
          "name": "stdout"
        }
      ]
    },
    {
      "cell_type": "code",
      "metadata": {
        "colab": {
          "base_uri": "https://localhost:8080/"
        },
        "id": "3n9GFZVK-8RB",
        "outputId": "21854869-0228-46a0-dca2-0c3eea43d637"
      },
      "source": [
        "from keras.preprocessing.image import load_img\n",
        "from keras.preprocessing.image import img_to_array\n",
        "from keras.models import load_model\n",
        " \n",
        "# load and prepare the image\n",
        "def load_image(filename):\n",
        "\t# load the image\n",
        "\timg = load_img(filename, target_size=(224, 224))\n",
        "\t# convert to array\n",
        "\timg = img_to_array(img)\n",
        "\t# reshape into a single sample with 3 channels\n",
        "\timg = img.reshape(1, 224, 224, 3)\n",
        "\t# center pixel data\n",
        "\timg = img.astype('float32')\n",
        "\timg = img - [123.68, 116.779, 103.939]\n",
        "\treturn img\n",
        " \n",
        "# load an image and predict the class\n",
        "def run_example():\n",
        "\t# load the image\n",
        "\timg = load_image('./test_resized/pomeranian/pomeranian5.png')\n",
        "\tmodel = load_model('final_model_new.h5')\n",
        "\t# predict the class\n",
        "\tresult = model.predict(img)\n",
        "\tif(result>0.5):\n",
        "\t\tprint(\"Pug\")\n",
        "\telse:\n",
        "\t\tprint(\"Pomeranian\")\n",
        "\t\n",
        " \n",
        "# entry point, run the example\n",
        "run_example()"
      ],
      "execution_count": 6,
      "outputs": [
        {
          "output_type": "stream",
          "text": [
            "Pomeranian\n"
          ],
          "name": "stdout"
        }
      ]
    }
  ]
}